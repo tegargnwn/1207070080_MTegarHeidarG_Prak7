{
 "cells": [
  {
   "cell_type": "code",
   "execution_count": null,
   "metadata": {},
   "outputs": [],
   "source": [
    "import cv2\n",
    "import numpy as np\n",
    "from skimage import data\n",
    "import matplotlib.pyplot as plt\n",
    "%matplotlib inline"
   ]
  },
  {
   "cell_type": "code",
   "execution_count": null,
   "metadata": {},
   "outputs": [],
   "source": [
    "img = data.camera()\n",
    "\n",
    "row, column = img.shape\n",
    "\n",
    "img1 = np.zeros((row,column),dtype = 'uint8')\n",
    " \n",
    "\n",
    "min_range = 10\n",
    "max_range = 60\n",
    " \n",
    "\n",
    "for i in range(row):\n",
    "    for j in range(column):\n",
    "        if img[i,j]>min_range and img[i,j]<max_range:\n",
    "            img1[i,j] = 255\n",
    "        else:\n",
    "            img1[i,j] = 0"
   ]
  },
  {
   "cell_type": "code",
   "execution_count": null,
   "metadata": {},
   "outputs": [],
   "source": [
    "fig, axes = plt.subplots(2, 2, figsize=(12, 12))\n",
    "ax = axes.ravel()\n",
    "\n",
    "ax[0].imshow(img, cmap=plt.cm.gray)\n",
    "ax[0].set_title(\"Citra Input\")\n",
    "ax[1].hist(img.ravel(), bins=256)\n",
    "ax[1].set_title('Histogram Input')\n",
    "\n",
    "ax[2].imshow(img1, cmap=plt.cm.gray)\n",
    "ax[2].set_title(\"Citra Output\")\n",
    "ax[3].hist(img1.ravel(), bins=256)\n",
    "ax[3].set_title('Histogram Output')"
   ]
  }
 ],
 "metadata": {
  "language_info": {
   "name": "python"
  },
  "orig_nbformat": 4
 },
 "nbformat": 4,
 "nbformat_minor": 2
}
